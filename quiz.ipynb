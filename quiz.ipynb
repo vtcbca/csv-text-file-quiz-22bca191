{
 "cells": [
  {
   "cell_type": "code",
   "execution_count": 26,
   "id": "eb4efd5c",
   "metadata": {},
   "outputs": [
    {
     "name": "stdout",
     "output_type": "stream",
     "text": [
      "['myself dimpal', '']\n",
      "['i am live in bardoli', '']\n",
      "['my favourite color is black', '']\n",
      "['my hobby is travelling', '']\n",
      "['i am studying at vidyabharti college trust', '']\n",
      "['my age is 18', '']\n",
      "[]\n"
     ]
    }
   ],
   "source": [
    "import csv\n",
    "with open('C:/22bca191/python/intro1.txt','r',newline='') as read_obj:\n",
    "    read=csv.reader(read_obj)\n",
    "    for i in read:\n",
    "        print(i)"
   ]
  },
  {
   "cell_type": "code",
   "execution_count": 27,
   "id": "4553f827",
   "metadata": {},
   "outputs": [
    {
     "name": "stdout",
     "output_type": "stream",
     "text": [
      "i am live in bardoli,\r\n",
      "\n",
      "my hobby is travelling,\r\n",
      "\n",
      "my age is 18,\r\n",
      "\n"
     ]
    }
   ],
   "source": [
    "import csv\n",
    "with open('C:/22bca191/python/intro1.txt','r',newline='') as f:\n",
    "    obj=f.readlines()[1::2]\n",
    "    for i in obj:\n",
    "        print(i)\n",
    "    "
   ]
  },
  {
   "cell_type": "code",
   "execution_count": null,
   "id": "5a35575d",
   "metadata": {},
   "outputs": [],
   "source": []
  }
 ],
 "metadata": {
  "kernelspec": {
   "display_name": "Python 3 (ipykernel)",
   "language": "python",
   "name": "python3"
  },
  "language_info": {
   "codemirror_mode": {
    "name": "ipython",
    "version": 3
   },
   "file_extension": ".py",
   "mimetype": "text/x-python",
   "name": "python",
   "nbconvert_exporter": "python",
   "pygments_lexer": "ipython3",
   "version": "3.9.6"
  }
 },
 "nbformat": 4,
 "nbformat_minor": 5
}
